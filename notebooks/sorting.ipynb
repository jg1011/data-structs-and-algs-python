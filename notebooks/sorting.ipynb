{
 "cells": [
  {
   "cell_type": "markdown",
   "metadata": {},
   "source": [
    "# Sorting Algorithms \n",
    "\n",
    "## Bubble Sort\n",
    "\n",
    "Algorithm: \n",
    "- Input: List\n",
    "- n = length(list)\n",
    "- For i in range(1,...,n): \n",
    "    - For j in range(1,...,n)\n",
    "        - if list[i] < list[j]\n",
    "            - swap(list[i], list[j])\n",
    "        - Endif\n",
    "    - EndFor\n",
    "- EndFor\n",
    "- Output: Sorted list in ascending order. "
   ]
  },
  {
   "cell_type": "code",
   "execution_count": 2,
   "metadata": {},
   "outputs": [
    {
     "name": "stdout",
     "output_type": "stream",
     "text": [
      "[1, 2, 3, 3.14, 4]\n"
     ]
    }
   ],
   "source": [
    "### Bubble sort ### \n",
    "\n",
    "def bubble_sort(a: list):\n",
    "    n = len(a) \n",
    "    for i in range(n): \n",
    "        for j in range(n): \n",
    "            if a[i] < a[j]:\n",
    "                a[i], a[j] = a[j], a[i]\n",
    "    return a\n",
    "\n",
    "print(bubble_sort([4,3,2,3.14,1])) "
   ]
  },
  {
   "cell_type": "markdown",
   "metadata": {},
   "source": [
    "## Insertion Sort \n",
    "\n",
    "- Input: list\n",
    "- $n = \\text{legth(\\text{list})}$\n",
    "- $i = 0$ \n",
    "- While $i < n$:\n",
    "    - $a = \\text{list}[i]$\n",
    "    - $j = i - 1$\n",
    "    - While $j \\geq 0$ & $a < \\text{list}[j]$\n",
    "        - $\\text{list}[j + 1] = \\text{list}[j]$\n",
    "        - $j = j - 1$\n",
    "    - EndWhile\n",
    "    - $\\text{list}[j + 1] = a$ \n",
    "    - $i = i + 1$ \n",
    "- EndWhile\n",
    "- Output: Sorted list in ascending order "
   ]
  },
  {
   "cell_type": "code",
   "execution_count": 17,
   "metadata": {},
   "outputs": [
    {
     "name": "stdout",
     "output_type": "stream",
     "text": [
      "[1, 2, 3, 4, 5, 6]\n"
     ]
    }
   ],
   "source": [
    "def insertion_sort(arr): \n",
    "    n = len(arr)\n",
    "    i = 0\n",
    "    while i < n:\n",
    "        a = arr[i] \n",
    "        j = i - 1\n",
    "        while (j >= 0) and (a < arr[j]):\n",
    "            arr[j + 1] = arr[j]\n",
    "            j -= 1\n",
    "        arr[j + 1] = a\n",
    "        i += 1  \n",
    "    return arr\n",
    "\n",
    "print(insertion_sort([6,5,4,3,2,1]))"
   ]
  }
 ],
 "metadata": {
  "kernelspec": {
   "display_name": "Python 3",
   "language": "python",
   "name": "python3"
  },
  "language_info": {
   "codemirror_mode": {
    "name": "ipython",
    "version": 3
   },
   "file_extension": ".py",
   "mimetype": "text/x-python",
   "name": "python",
   "nbconvert_exporter": "python",
   "pygments_lexer": "ipython3",
   "version": "3.12.5"
  }
 },
 "nbformat": 4,
 "nbformat_minor": 2
}

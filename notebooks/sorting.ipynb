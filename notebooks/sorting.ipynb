{
 "cells": [
  {
   "cell_type": "markdown",
   "metadata": {},
   "source": [
    "# Sorting Algorithms \n",
    "\n",
    "## Bubble Sort\n",
    "\n",
    "- input: List\n",
    "- n = length(list)\n",
    "- for i in range(1,...,n): \n",
    "    - for j in range(1,...,n)\n",
    "        - if list[i] < list[j]\n",
    "            - swap(list[i], list[j])\n",
    "        - endif\n",
    "    - endFor\n",
    "- endFor\n",
    "- output: Sorted list in ascending order. "
   ]
  },
  {
   "cell_type": "code",
   "execution_count": 25,
   "metadata": {},
   "outputs": [
    {
     "name": "stdout",
     "output_type": "stream",
     "text": [
      "[1, 2, 3, 3.14, 4]\n"
     ]
    }
   ],
   "source": [
    "### Bubble sort ### \n",
    "\n",
    "def bubble_sort(a: list):\n",
    "    n = len(a) \n",
    "    for i in range(n): \n",
    "        for j in range(n): \n",
    "            if a[i] < a[j]:\n",
    "                a[i], a[j] = a[j], a[i]\n",
    "    return a\n",
    "\n",
    "print(bubble_sort([4,3,2,3.14,1])) "
   ]
  },
  {
   "cell_type": "markdown",
   "metadata": {},
   "source": [
    "## Insertion Sort \n",
    "\n",
    "- input: list\n",
    "- $n = \\text{legth(\\text{list})}$\n",
    "- $i = 0$ \n",
    "- while $i < n$:\n",
    "    - $a = \\text{list}[i]$\n",
    "    - $j = i - 1$\n",
    "    - while $j \\geq 0$ & $a < \\text{list}[j]$\n",
    "        - $\\text{list}[j + 1] = \\text{list}[j]$\n",
    "        - $j = j - 1$\n",
    "    - endwhile\n",
    "    - $\\text{list}[j + 1] = a$ \n",
    "    - $i = i + 1$ \n",
    "- endwhile\n",
    "- output: Sorted list in ascending order "
   ]
  },
  {
   "cell_type": "code",
   "execution_count": 26,
   "metadata": {},
   "outputs": [
    {
     "name": "stdout",
     "output_type": "stream",
     "text": [
      "[1, 2, 3, 4, 5, 6]\n"
     ]
    }
   ],
   "source": [
    "def insertion_sort(arr): \n",
    "    n = len(arr)\n",
    "    i = 0\n",
    "    while i < n:\n",
    "        a = arr[i] \n",
    "        j = i - 1\n",
    "        while (j >= 0) and (a < arr[j]):\n",
    "            arr[j + 1] = arr[j]\n",
    "            j -= 1\n",
    "        arr[j + 1] = a\n",
    "        i += 1  \n",
    "    return arr\n",
    "\n",
    "print(insertion_sort([6,5,4,3,2,1]))"
   ]
  },
  {
   "cell_type": "markdown",
   "metadata": {},
   "source": [
    "### Merge Sort\n",
    "\n",
    "MergeSort\n",
    "\n",
    "- Input: list \n",
    "- prerequisite: $\\text{list} \\neq \\emptyset$ \n",
    "- $n = \\text{length}(\\text{list})$ \n",
    "- if $n = 1$: $\\quad$ // Edge case, n=1 => list sorted\n",
    "    - return list\n",
    "- endif\n",
    "- $m = \\lfloor \\frac{n}{2} \\rfloor$\n",
    "- $L = [\\text{list}_1, \\dots, \\text{list}_m]$\n",
    "- $R = [\\text{list}_{m+1}, \\dots, \\text{list}_n]$\n",
    "- $L \\leftarrow \\text{MergeSort}(L)$\n",
    "- $R \\leftarrow \\text{MergeSort}(R)$\n",
    "- $\\text{sorted}\\_\\text{list} = \\text{MergeOrdered}(L, R)$ \n",
    "- Output: sorted_list\n",
    "\n",
    "MergeOrdered\n",
    "\n",
    "- Input: list1, list2 \n",
    "- prerequisite: list and list2 sorted in ascending order\n",
    "- $L, R = \\text{list1}, \\text{list2}$ $\\quad$ // Create temp arrays\n",
    "- $A = \\emptyset$ $\\quad$ // Create empty results array\n",
    "- while $L \\neq \\emptyset$ and $R \\neq \\emptyset$ \n",
    "    - if $L_1 < R_1$ \n",
    "        - $A.\\text{append}(L_1)$\n",
    "        - $L.\\text{pop}$\n",
    "    -  else: \n",
    "        $A.\\text{append}(R_1)$\n",
    "        - $A.\\text{append}(R_1)$\n",
    "        - $R.\\text{pop}$\n",
    "    - endif\n",
    "- endwhile\n",
    "- $\\text{sorted}\\_\\text{list} = A$ \n",
    "- Output: sorted\\_list"
   ]
  },
  {
   "cell_type": "code",
   "execution_count": 27,
   "metadata": {},
   "outputs": [
    {
     "name": "stdout",
     "output_type": "stream",
     "text": [
      "[1, 65, 3, 6, 2, 6] [2, 7, 8, 6, 5, 57, 8]\n",
      "[1, 65, 3] [6, 2, 6]\n",
      "[1] [65, 3]\n",
      "[65] [3]\n",
      "[6] [2, 6]\n",
      "[2] [6]\n",
      "[2, 7, 8] [6, 5, 57, 8]\n",
      "[2] [7, 8]\n",
      "[7] [8]\n",
      "[6, 5] [57, 8]\n",
      "[6] [5]\n",
      "[57] [8]\n",
      "[1, 2, 2, 3, 5, 6, 6, 6, 7, 8, 8, 57, 65]\n"
     ]
    }
   ],
   "source": [
    "def merge(arr1, arr2): # O(n), merges two sorted arrs by popping smallest lead item iteratively\n",
    "    L = []\n",
    "\n",
    "    R = []\n",
    "    for i in range(len(arr1)): # Copy arr1 into L\n",
    "        L.append(arr1[i])\n",
    "    for j in range(len(arr2)): # Copy arr2 into R\n",
    "        R.append(arr2[j])\n",
    "    sorted_arr = [] \n",
    "        \n",
    "    while L or R: \n",
    "        if not L: # Case when left arr empty \n",
    "            sorted_arr.append(R.pop(0))\n",
    "        elif not R: # Case when right arr empty\n",
    "            sorted_arr.append(L.pop(0))\n",
    "        else: # Case when both arrs are nonempty\n",
    "            if L[0] < R[0]: \n",
    "                sorted_arr.append(L.pop(0))\n",
    "            else: \n",
    "                sorted_arr.append(R.pop(0))\n",
    "                \n",
    "    return sorted_arr\n",
    "\n",
    "def merge_sort(arr):\n",
    "    if len(arr) == 1: # Edge case when length 1\n",
    "        return arr \n",
    "    n = len(arr)\n",
    "    m = int((n/2) // 1) # Floor of n/2 \n",
    "    L = []\n",
    "    R = []\n",
    "    for i in range(m): # copy left half of arr to L \n",
    "        L.append(arr[i])\n",
    "    for j in range(m, n): # copy right half of arr to R\n",
    "        R.append(arr[j])\n",
    "    print(L, R)\n",
    "    L = merge_sort(L)\n",
    "    R = merge_sort(R)\n",
    "    return merge(L, R)\n"
   ]
  }
 ],
 "metadata": {
  "kernelspec": {
   "display_name": "Python 3",
   "language": "python",
   "name": "python3"
  },
  "language_info": {
   "codemirror_mode": {
    "name": "ipython",
    "version": 3
   },
   "file_extension": ".py",
   "mimetype": "text/x-python",
   "name": "python",
   "nbconvert_exporter": "python",
   "pygments_lexer": "ipython3",
   "version": "3.12.5"
  }
 },
 "nbformat": 4,
 "nbformat_minor": 2
}
